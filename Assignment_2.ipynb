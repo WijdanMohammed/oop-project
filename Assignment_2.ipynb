{
  "nbformat": 4,
  "nbformat_minor": 0,
  "metadata": {
    "colab": {
      "provenance": [],
      "authorship_tag": "ABX9TyNDbsGwi+RLKIEGA/6W+t6r",
      "include_colab_link": true
    },
    "kernelspec": {
      "name": "python3",
      "display_name": "Python 3"
    },
    "language_info": {
      "name": "python"
    }
  },
  "cells": [
    {
      "cell_type": "markdown",
      "metadata": {
        "id": "view-in-github",
        "colab_type": "text"
      },
      "source": [
        "<a href=\"https://colab.research.google.com/github/WijdanMohammed/oop-project/blob/main/Assignment_2.ipynb\" target=\"_parent\"><img src=\"https://colab.research.google.com/assets/colab-badge.svg\" alt=\"Open In Colab\"/></a>"
      ]
    },
    {
      "cell_type": "markdown",
      "source": [
        "**sum of elements**"
      ],
      "metadata": {
        "id": "p9KHtZu-JVmq"
      }
    },
    {
      "cell_type": "code",
      "execution_count": null,
      "metadata": {
        "id": "9KRTUu9ZJOY7"
      },
      "outputs": [],
      "source": [
        "def find_sum_of_list_elements(lst):\n",
        "    \"\"\"\n",
        "    Function to find the sum of all elements in a list.\n",
        "\n",
        "    Parameters:\n",
        "    lst (list): The input list.\n",
        "\n",
        "    Returns:\n",
        "    int or float: The sum of all elements in the list.\n",
        "    \"\"\"\n",
        "    return sum(lst)\n",
        "\n",
        "# Example usage:\n",
        "my_list = [1, 2, 3, 4, 5]\n",
        "result = find_sum_of_list_elements(my_list)\n",
        "print(f\"The sum of elements in the list is: {result}\")\n"
      ]
    },
    {
      "cell_type": "markdown",
      "source": [
        "**maximum and minimum values**"
      ],
      "metadata": {
        "id": "oFhOa0NOJWix"
      }
    },
    {
      "cell_type": "code",
      "source": [
        "def find_max_min_values(lst):\n",
        "    \"\"\"\n",
        "    Function to find the maximum and minimum values in a list.\n",
        "\n",
        "    Parameters:\n",
        "    lst (list): The input list.\n",
        "\n",
        "    Returns:\n",
        "    tuple: A tuple containing the maximum and minimum values in the list.\n",
        "    \"\"\"\n",
        "    if not lst:\n",
        "        return None, None  # Return None for both max and min if the list is empty\n",
        "    else:\n",
        "        return max(lst), min(lst)\n",
        "\n",
        "# Example usage:\n",
        "my_list = [3, 1, 4, 1, 5, 9, 2, 6, 5, 3, 5]\n",
        "max_value, min_value = find_max_min_values(my_list)\n",
        "\n",
        "print(f\"The maximum value in the list is: {max_value}\")\n",
        "print(f\"The minimum value in the list is: {min_value}\")\n"
      ],
      "metadata": {
        "id": "yQI1zSbAJXFR"
      },
      "execution_count": null,
      "outputs": []
    },
    {
      "cell_type": "markdown",
      "source": [
        "**remove duplicates**"
      ],
      "metadata": {
        "id": "YZ-T7wcYJXzR"
      }
    },
    {
      "cell_type": "code",
      "source": [
        "def remove_duplicates(lst):\n",
        "    \"\"\"\n",
        "    Function to remove duplicates from a list.\n",
        "\n",
        "    Parameters:\n",
        "    lst (list): The input list.\n",
        "\n",
        "    Returns:\n",
        "    list: A new list with duplicates removed.\n",
        "    \"\"\"\n",
        "    return list(set(lst))\n",
        "\n",
        "# Example usage:\n",
        "my_list = [1, 2, 2, 3, 4, 4, 5, 5, 5]\n",
        "result_list = remove_duplicates(my_list)\n",
        "\n",
        "print(f\"Original list: {my_list}\")\n",
        "print(f\"List after removing duplicates: {result_list}\")\n"
      ],
      "metadata": {
        "id": "8p5d2PFaJYOh"
      },
      "execution_count": null,
      "outputs": []
    },
    {
      "cell_type": "markdown",
      "source": [
        "**reverse**"
      ],
      "metadata": {
        "id": "PALU5vjCJY2p"
      }
    },
    {
      "cell_type": "code",
      "source": [
        "def reverse_list(lst):\n",
        "    \"\"\"\n",
        "    Function to reverse a list.\n",
        "\n",
        "    Parameters:\n",
        "    lst (list): The input list.\n",
        "\n",
        "    Returns:\n",
        "    list: A new list with elements reversed.\n",
        "    \"\"\"\n",
        "    return lst[::-1]\n",
        "\n",
        "# Example usage:\n",
        "my_list = [1, 2, 3, 4, 5]\n",
        "reversed_list = reverse_list(my_list)\n",
        "\n",
        "print(f\"Original list: {my_list}\")\n",
        "print(f\"Reversed list: {reversed_list}\")\n"
      ],
      "metadata": {
        "id": "0ctHwppKJZSK"
      },
      "execution_count": null,
      "outputs": []
    },
    {
      "cell_type": "markdown",
      "source": [
        "**sort a list of strings**"
      ],
      "metadata": {
        "id": "gbdxr4LgJZ1L"
      }
    },
    {
      "cell_type": "code",
      "source": [
        "def sort_strings_by_length(strings):\n",
        "    \"\"\"\n",
        "    Function to sort a list of strings based on the length of each string.\n",
        "\n",
        "    Parameters:\n",
        "    strings (list): The input list of strings.\n",
        "\n",
        "    Returns:\n",
        "    list: A new list of strings sorted by length.\n",
        "    \"\"\"\n",
        "    return sorted(strings, key=len)\n",
        "\n",
        "# Example usage:\n",
        "my_strings = [\"apple\", \"banana\", \"kiwi\", \"orange\", \"grape\"]\n",
        "sorted_strings = sort_strings_by_length(my_strings)\n",
        "\n",
        "print(f\"Original list of strings: {my_strings}\")\n",
        "print(f\"Sorted list of strings by length: {sorted_strings}\")\n"
      ],
      "metadata": {
        "id": "lFI-wt8WJaaS"
      },
      "execution_count": null,
      "outputs": []
    }
  ]
}