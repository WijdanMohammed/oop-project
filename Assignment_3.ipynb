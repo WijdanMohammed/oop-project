{
  "nbformat": 4,
  "nbformat_minor": 0,
  "metadata": {
    "colab": {
      "provenance": [],
      "authorship_tag": "ABX9TyOY9erXE7YJV/J4uUS7fEaz",
      "include_colab_link": true
    },
    "kernelspec": {
      "name": "python3",
      "display_name": "Python 3"
    },
    "language_info": {
      "name": "python"
    }
  },
  "cells": [
    {
      "cell_type": "markdown",
      "metadata": {
        "id": "view-in-github",
        "colab_type": "text"
      },
      "source": [
        "<a href=\"https://colab.research.google.com/github/WijdanMohammed/oop-project/blob/main/Assignment_3.ipynb\" target=\"_parent\"><img src=\"https://colab.research.google.com/assets/colab-badge.svg\" alt=\"Open In Colab\"/></a>"
      ]
    },
    {
      "cell_type": "markdown",
      "source": [
        "**Tuple Method** **:**\n",
        "\n",
        "Create a tuple"
      ],
      "metadata": {
        "id": "Fuz59XLU9SRd"
      }
    },
    {
      "cell_type": "code",
      "source": [
        "thistuple = (\"anuva\", \"wijdan\", \"ifti\")\n",
        "print(thistuple)"
      ],
      "metadata": {
        "colab": {
          "base_uri": "https://localhost:8080/"
        },
        "id": "W6qNe1h29Sq0",
        "outputId": "b8030453-96a5-46b6-f772-5db491a1b1a0"
      },
      "execution_count": 6,
      "outputs": [
        {
          "output_type": "stream",
          "name": "stdout",
          "text": [
            "('anuva', 'wijdan', 'ifti')\n"
          ]
        }
      ]
    },
    {
      "cell_type": "markdown",
      "source": [
        "*Allow Duplicates:*"
      ],
      "metadata": {
        "id": "D5CVOJ7C9TE0"
      }
    },
    {
      "cell_type": "code",
      "source": [
        "thistuple = (\"anuva\", \"wijdan\", \"ifti\", \"anuva\", \"ifti\")\n",
        "print(thistuple)"
      ],
      "metadata": {
        "colab": {
          "base_uri": "https://localhost:8080/"
        },
        "id": "qG90xqT79Tds",
        "outputId": "12fde56f-3655-4417-a201-96a78997c2b1"
      },
      "execution_count": 7,
      "outputs": [
        {
          "output_type": "stream",
          "name": "stdout",
          "text": [
            "('anuva', 'wijdan', 'ifti', 'anuva', 'ifti')\n"
          ]
        }
      ]
    },
    {
      "cell_type": "markdown",
      "source": [
        "*Tuple Length:*"
      ],
      "metadata": {
        "id": "9-lMTawt9Twd"
      }
    },
    {
      "cell_type": "code",
      "source": [
        "thistuple = (\"anuva\", \"wijdan\", \"ifti\")\n",
        "print(len(thistuple))"
      ],
      "metadata": {
        "colab": {
          "base_uri": "https://localhost:8080/"
        },
        "id": "cbY-oxtw9UGd",
        "outputId": "8ab80158-f2a9-4e71-dabe-b0dd21657ace"
      },
      "execution_count": 8,
      "outputs": [
        {
          "output_type": "stream",
          "name": "stdout",
          "text": [
            "3\n"
          ]
        }
      ]
    },
    {
      "cell_type": "markdown",
      "source": [
        "*Create Tuple With One Item:*"
      ],
      "metadata": {
        "id": "RRTTVsNk9UUl"
      }
    },
    {
      "cell_type": "code",
      "source": [
        "thistuple = (\"anuva\",)\n",
        "print(thistuple)\n",
        "#NOT a tuple\n",
        "thistuple = (\"anuva\")\n",
        "print(thistuple)"
      ],
      "metadata": {
        "colab": {
          "base_uri": "https://localhost:8080/"
        },
        "id": "35TOlEz09Ult",
        "outputId": "4fa7be79-de68-4eb0-db0b-5db8549605ab"
      },
      "execution_count": 14,
      "outputs": [
        {
          "output_type": "stream",
          "name": "stdout",
          "text": [
            "('anuva',)\n",
            "anuva\n"
          ]
        }
      ]
    },
    {
      "cell_type": "markdown",
      "source": [
        "*Negative Indexing:*"
      ],
      "metadata": {
        "id": "JZiUxowR9U7s"
      }
    },
    {
      "cell_type": "code",
      "source": [
        "thistuple = (\"anuva\", \"wijdan\", \"ifti\")\n",
        "print(thistuple[-1])"
      ],
      "metadata": {
        "colab": {
          "base_uri": "https://localhost:8080/"
        },
        "id": "iwqyNo3V9VTM",
        "outputId": "1f2b8d41-ebdb-4077-8361-f097e0d4461e"
      },
      "execution_count": 16,
      "outputs": [
        {
          "output_type": "stream",
          "name": "stdout",
          "text": [
            "ifti\n"
          ]
        }
      ]
    },
    {
      "cell_type": "markdown",
      "source": [
        "*Access Tuple Items:*"
      ],
      "metadata": {
        "id": "x27HCuen9VlM"
      }
    },
    {
      "cell_type": "code",
      "source": [
        "thistuple = (\"anuva\", \"wijdan\", \"ifti\")\n",
        "print(thistuple[1])"
      ],
      "metadata": {
        "colab": {
          "base_uri": "https://localhost:8080/"
        },
        "id": "EHU1Z_Wz9WPE",
        "outputId": "0d190a59-f575-4366-c81c-a88604bc1800"
      },
      "execution_count": 17,
      "outputs": [
        {
          "output_type": "stream",
          "name": "stdout",
          "text": [
            "wijdan\n"
          ]
        }
      ]
    },
    {
      "cell_type": "markdown",
      "source": [
        "*Range of Indexes:*"
      ],
      "metadata": {
        "id": "3b9nmYv39X_l"
      }
    },
    {
      "cell_type": "code",
      "source": [
        "thistuple = (\"anuva\", \"wijdan\", \"ifti\", \"rayhan\", \"zakia\", \"rakib\", \"preoti\")\n",
        "print(thistuple[2:5])"
      ],
      "metadata": {
        "colab": {
          "base_uri": "https://localhost:8080/"
        },
        "id": "U9VIDsuU9Yat",
        "outputId": "86d2da0c-e987-48f9-cdf6-ddfa53490f03"
      },
      "execution_count": 19,
      "outputs": [
        {
          "output_type": "stream",
          "name": "stdout",
          "text": [
            "('ifti', 'rayhan', 'zakia')\n"
          ]
        }
      ]
    },
    {
      "cell_type": "markdown",
      "source": [
        "*count:*"
      ],
      "metadata": {
        "id": "vw5GJ6yKJjzv"
      }
    },
    {
      "cell_type": "code",
      "source": [
        "thistuple = (1, 3, 7, 8, 7, 5, 4, 6, 8, 5)\n",
        "x = thistuple.count(6)\n",
        "print(x)"
      ],
      "metadata": {
        "colab": {
          "base_uri": "https://localhost:8080/"
        },
        "id": "-_SrK0rpJkKw",
        "outputId": "712997c4-7aef-403c-8e9f-cfa19e5a0407"
      },
      "execution_count": 21,
      "outputs": [
        {
          "output_type": "stream",
          "name": "stdout",
          "text": [
            "1\n"
          ]
        }
      ]
    },
    {
      "cell_type": "markdown",
      "source": [
        "*index*"
      ],
      "metadata": {
        "id": "ts_TQmJXJkin"
      }
    },
    {
      "cell_type": "code",
      "source": [
        "thistuple = (1, 3, 7, 8, 7, 5, 4, 6, 8, 5)\n",
        "x = thistuple.index(8)\n",
        "print(x)"
      ],
      "metadata": {
        "colab": {
          "base_uri": "https://localhost:8080/"
        },
        "id": "KbDgcly5Jk33",
        "outputId": "db837dc6-f9a2-4322-b4ac-6fe0f6ca4f49"
      },
      "execution_count": 22,
      "outputs": [
        {
          "output_type": "stream",
          "name": "stdout",
          "text": [
            "3\n"
          ]
        }
      ]
    },
    {
      "cell_type": "markdown",
      "source": [
        "**Set Method:**\n",
        "\n",
        "*add:*"
      ],
      "metadata": {
        "id": "38t59AyBKB1_"
      }
    },
    {
      "cell_type": "code",
      "source": [
        "thisset = {\"anuva\", \"wijdan\", \"ifti\"}\n",
        "thisset.add(\"rayhan\")\n",
        "print(thisset)"
      ],
      "metadata": {
        "colab": {
          "base_uri": "https://localhost:8080/"
        },
        "id": "_E-tdA2LKCO_",
        "outputId": "d4a5c77b-59cc-4067-e749-054673aa5ceb"
      },
      "execution_count": 23,
      "outputs": [
        {
          "output_type": "stream",
          "name": "stdout",
          "text": [
            "{'wijdan', 'ifti', 'anuva', 'rayhan'}\n"
          ]
        }
      ]
    },
    {
      "cell_type": "markdown",
      "source": [
        "*remove:*"
      ],
      "metadata": {
        "id": "qQtAi4OEKCmP"
      }
    },
    {
      "cell_type": "code",
      "source": [
        "thisset = {\"anuva\", \"wijdan\", \"ifti\"}\n",
        "thisset.remove(\"ifti\")\n",
        "print(thisset)"
      ],
      "metadata": {
        "colab": {
          "base_uri": "https://localhost:8080/"
        },
        "id": "HdbMsxuHKC6v",
        "outputId": "d99b8be0-7dc6-4e11-def4-a2199e2c6ba8"
      },
      "execution_count": 24,
      "outputs": [
        {
          "output_type": "stream",
          "name": "stdout",
          "text": [
            "{'wijdan', 'anuva'}\n"
          ]
        }
      ]
    },
    {
      "cell_type": "markdown",
      "source": [
        "*Loop:*"
      ],
      "metadata": {
        "id": "IMiapmyeKDLH"
      }
    },
    {
      "cell_type": "code",
      "source": [
        "thisset = {\"anuva\", \"wijdan\", \"ifti\"}\n",
        "for x in thisset:\n",
        " print(x)"
      ],
      "metadata": {
        "colab": {
          "base_uri": "https://localhost:8080/"
        },
        "id": "m9rBmzWbKDiH",
        "outputId": "b810b752-1df0-41a6-97c1-6d8b66be0eca"
      },
      "execution_count": 25,
      "outputs": [
        {
          "output_type": "stream",
          "name": "stdout",
          "text": [
            "wijdan\n",
            "ifti\n",
            "anuva\n"
          ]
        }
      ]
    },
    {
      "cell_type": "markdown",
      "source": [
        "*clear:*"
      ],
      "metadata": {
        "id": "EZ4RYrVGKD1I"
      }
    },
    {
      "cell_type": "code",
      "source": [
        "thisset = {\"anuva\", \"wijdan\", \"ifti\"}\n",
        "thisset.clear()\n",
        "print(thisset)"
      ],
      "metadata": {
        "colab": {
          "base_uri": "https://localhost:8080/"
        },
        "id": "vn97L34oKERf",
        "outputId": "9cda1fd3-5084-4dab-e7a3-de138c49c8fd"
      },
      "execution_count": 26,
      "outputs": [
        {
          "output_type": "stream",
          "name": "stdout",
          "text": [
            "set()\n"
          ]
        }
      ]
    },
    {
      "cell_type": "markdown",
      "source": [
        "*discard:*"
      ],
      "metadata": {
        "id": "Y13MYh9RNSpP"
      }
    },
    {
      "cell_type": "code",
      "source": [
        "thisset = {\"anuva\", \"wijdan\", \"ifti\"}\n",
        "thisset.discard(\"wijdan\")\n",
        "print(thisset)"
      ],
      "metadata": {
        "colab": {
          "base_uri": "https://localhost:8080/"
        },
        "id": "j9sWd0IZNS-f",
        "outputId": "0d4d04ac-ca7e-4869-d9cb-bd558d30b12e"
      },
      "execution_count": 27,
      "outputs": [
        {
          "output_type": "stream",
          "name": "stdout",
          "text": [
            "{'ifti', 'anuva'}\n"
          ]
        }
      ]
    },
    {
      "cell_type": "markdown",
      "source": [
        "*pop:*"
      ],
      "metadata": {
        "id": "2-737RqANee4"
      }
    },
    {
      "cell_type": "code",
      "source": [
        "thisset = {\"anuva\", \"wijdan\", \"ifti\"}\n",
        "thisset.pop()\n",
        "print(thisset)"
      ],
      "metadata": {
        "colab": {
          "base_uri": "https://localhost:8080/"
        },
        "id": "v7MhOe-XNfDH",
        "outputId": "3d1d0241-93ae-41c0-d267-15bbbf868cac"
      },
      "execution_count": 29,
      "outputs": [
        {
          "output_type": "stream",
          "name": "stdout",
          "text": [
            "{'ifti', 'anuva'}\n"
          ]
        }
      ]
    },
    {
      "cell_type": "markdown",
      "source": [
        "*symmetric_difference*"
      ],
      "metadata": {
        "id": "6TtVCpqyNzXn"
      }
    },
    {
      "cell_type": "code",
      "source": [
        "x = {\"anuva\", \"wijdan\", \"ifti\"}\n",
        "y = {\"CSE\", \"FDT\", \"anuva\"}\n",
        "\n",
        "z = x.symmetric_difference(y)\n",
        "print(z)"
      ],
      "metadata": {
        "colab": {
          "base_uri": "https://localhost:8080/"
        },
        "id": "j624KAGbNzp3",
        "outputId": "bde72383-1a9e-4714-9480-127a2d80dc43"
      },
      "execution_count": 30,
      "outputs": [
        {
          "output_type": "stream",
          "name": "stdout",
          "text": [
            "{'CSE', 'wijdan', 'FDT', 'ifti'}\n"
          ]
        }
      ]
    },
    {
      "cell_type": "markdown",
      "source": [
        "*update:*"
      ],
      "metadata": {
        "id": "UOjkFUkTNz9Q"
      }
    },
    {
      "cell_type": "code",
      "source": [
        "x = {\"anuva\", \"wijdan\", \"ifti\"}\n",
        "y = {\"CSE\", \"FDT\", \"anuva\"}\n",
        "\n",
        "x.update(y)\n",
        "print(x)"
      ],
      "metadata": {
        "colab": {
          "base_uri": "https://localhost:8080/"
        },
        "id": "s6Q9LqbbN0QQ",
        "outputId": "4b4fd17a-8640-4f3f-ce7e-8e215115f484"
      },
      "execution_count": 31,
      "outputs": [
        {
          "output_type": "stream",
          "name": "stdout",
          "text": [
            "{'CSE', 'wijdan', 'FDT', 'ifti', 'anuva'}\n"
          ]
        }
      ]
    },
    {
      "cell_type": "markdown",
      "source": [
        "*difference:*"
      ],
      "metadata": {
        "id": "_3hQRwNyOWGr"
      }
    },
    {
      "cell_type": "code",
      "source": [
        "x = {\"anuva\", \"wijdan\", \"ifti\"}\n",
        "y = {\"CSE\", \"FDT\", \"anuva\"}\n",
        "\n",
        "z = x.difference(y)\n",
        "print(z)"
      ],
      "metadata": {
        "colab": {
          "base_uri": "https://localhost:8080/"
        },
        "id": "sG5jcxhDOW8p",
        "outputId": "eb09591a-bd59-48ce-883e-e4a785ddeaf1"
      },
      "execution_count": 32,
      "outputs": [
        {
          "output_type": "stream",
          "name": "stdout",
          "text": [
            "{'wijdan', 'ifti'}\n"
          ]
        }
      ]
    }
  ]
}