{
  "nbformat": 4,
  "nbformat_minor": 0,
  "metadata": {
    "colab": {
      "provenance": [],
      "authorship_tag": "ABX9TyNo8upzgjCARiR9rVgJ2sPp",
      "include_colab_link": true
    },
    "kernelspec": {
      "name": "python3",
      "display_name": "Python 3"
    },
    "language_info": {
      "name": "python"
    }
  },
  "cells": [
    {
      "cell_type": "markdown",
      "metadata": {
        "id": "view-in-github",
        "colab_type": "text"
      },
      "source": [
        "<a href=\"https://colab.research.google.com/github/WijdanMohammed/oop-project/blob/main/Lab_task.ipynb\" target=\"_parent\"><img src=\"https://colab.research.google.com/assets/colab-badge.svg\" alt=\"Open In Colab\"/></a>"
      ]
    },
    {
      "cell_type": "code",
      "execution_count": 1,
      "metadata": {
        "id": "OCj6V70F3bV0"
      },
      "outputs": [],
      "source": [
        "# Define the dictionary with month names and corresponding number of days\n",
        "month_days = {\n",
        "    \"January\": 31,\n",
        "    \"February\": 28,\n",
        "    \"March\": 31,\n",
        "    \"April\": 30,\n",
        "    \"May\": 31,\n",
        "    \"June\": 30,\n",
        "    \"July\": 31,\n",
        "    \"August\": 31,\n",
        "    \"September\": 30,\n",
        "    \"October\": 31,\n",
        "    \"November\": 30,\n",
        "    \"December\": 31\n",
        "}"
      ]
    },
    {
      "cell_type": "code",
      "source": [
        "# (a) Ask the user to enter a month name and print the number of days\n",
        "month_name = input(\"Enter a month name: \")\n",
        "month_name = month_name.capitalize()  # Convert to title case for consistency\n",
        "\n",
        "if month_name in month_days:\n",
        "    print(f\"There are {month_days[month_name]} days in {month_name}.\")\n",
        "else:\n",
        "    print(\"Invalid month name entered.\")"
      ],
      "metadata": {
        "colab": {
          "base_uri": "https://localhost:8080/"
        },
        "id": "FLOSzBQC62oo",
        "outputId": "23750efd-2598-4de1-87be-63a9554e536a"
      },
      "execution_count": 2,
      "outputs": [
        {
          "output_type": "stream",
          "name": "stdout",
          "text": [
            "Enter a month name: April\n",
            "There are 30 days in April.\n"
          ]
        }
      ]
    },
    {
      "cell_type": "code",
      "source": [
        "# (b) Print out all of the keys in alphabetical order\n",
        "print(\"\\nAll months in alphabetical order:\")\n",
        "for month in sorted(month_days.keys()):\n",
        "    print(month)"
      ],
      "metadata": {
        "colab": {
          "base_uri": "https://localhost:8080/"
        },
        "id": "36fJof9T63T4",
        "outputId": "f8c25349-9dee-4202-c580-0652273f9da3"
      },
      "execution_count": 3,
      "outputs": [
        {
          "output_type": "stream",
          "name": "stdout",
          "text": [
            "\n",
            "All months in alphabetical order:\n",
            "April\n",
            "August\n",
            "December\n",
            "February\n",
            "January\n",
            "July\n",
            "June\n",
            "March\n",
            "May\n",
            "November\n",
            "October\n",
            "September\n"
          ]
        }
      ]
    },
    {
      "cell_type": "code",
      "source": [
        "# (c) Print out all of the months with 31 days\n",
        "print(\"\\nMonths with 31 days:\")\n",
        "for month, days in month_days.items():\n",
        "    if days == 31:\n",
        "        print(month)"
      ],
      "metadata": {
        "colab": {
          "base_uri": "https://localhost:8080/"
        },
        "id": "AHr1zzr663Ig",
        "outputId": "30f4705c-f031-43f8-c07c-4e22f4dadaf9"
      },
      "execution_count": 4,
      "outputs": [
        {
          "output_type": "stream",
          "name": "stdout",
          "text": [
            "\n",
            "Months with 31 days:\n",
            "January\n",
            "March\n",
            "May\n",
            "July\n",
            "August\n",
            "October\n",
            "December\n"
          ]
        }
      ]
    },
    {
      "cell_type": "code",
      "source": [
        "# (d) Print out the (key-value) pairs sorted by the number of days in each month\n",
        "print(\"\\nMonths sorted by the number of days:\")\n",
        "sorted_months = sorted(month_days.items(), key=lambda x: x[1])\n",
        "for month, days in sorted_months:\n",
        "    print(f\"{month}: {days} days\")"
      ],
      "metadata": {
        "colab": {
          "base_uri": "https://localhost:8080/"
        },
        "id": "gvTvUGSS62-w",
        "outputId": "980d3bb0-1fa2-4ad6-9b8d-7e78c9c1fa1c"
      },
      "execution_count": 5,
      "outputs": [
        {
          "output_type": "stream",
          "name": "stdout",
          "text": [
            "\n",
            "Months sorted by the number of days:\n",
            "February: 28 days\n",
            "April: 30 days\n",
            "June: 30 days\n",
            "September: 30 days\n",
            "November: 30 days\n",
            "January: 31 days\n",
            "March: 31 days\n",
            "May: 31 days\n",
            "July: 31 days\n",
            "August: 31 days\n",
            "October: 31 days\n",
            "December: 31 days\n"
          ]
        }
      ]
    },
    {
      "cell_type": "markdown",
      "source": [
        "# 2."
      ],
      "metadata": {
        "id": "gP0iTmG_-aO4"
      }
    },
    {
      "cell_type": "code",
      "source": [
        "# Dictionary containing product names and prices (assuming it's already created)\n",
        "products = {\n",
        "    \"apple\": 0.5,\n",
        "    \"banana\": 0.3,\n",
        "    \"orange\": 0.6,\n",
        "    \"pear\": 0.4,\n",
        "    \"grape\": 0.8,\n",
        "    \"pear\": 0.2\n",
        "}\n",
        "\n",
        "# Function to print products whose price is less than a given amount\n",
        "def print_products_less_than_amount(products, amount):\n",
        "    print(f\"Products with price less than ${amount}:\")\n",
        "    for product, price in products.items():\n",
        "        if price < amount:\n",
        "            print(f\"{product}: ${price:.2f}\")\n",
        "\n",
        "# Main function\n",
        "def main():\n",
        "    # Get the dollar amount from the user\n",
        "    amount = float(input(\"Enter a dollar amount: \"))\n",
        "\n",
        "    # Call the function to print products with prices less than the given amount\n",
        "    print_products_less_than_amount(products, amount)\n",
        "\n",
        "if __name__ == \"__main__\":\n",
        "    main()\n"
      ],
      "metadata": {
        "colab": {
          "base_uri": "https://localhost:8080/"
        },
        "id": "HVhs5l7C-chg",
        "outputId": "d9cccca7-c173-4aa3-d257-148718cb35a4"
      },
      "execution_count": 7,
      "outputs": [
        {
          "output_type": "stream",
          "name": "stdout",
          "text": [
            "Enter a dollar amount: 5\n",
            "Products with price less than $5.0:\n",
            "apple: $0.50\n",
            "banana: $0.30\n",
            "orange: $0.60\n",
            "pear: $0.20\n",
            "grape: $0.80\n"
          ]
        }
      ]
    }
  ]
}