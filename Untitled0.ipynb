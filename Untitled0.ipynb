{
  "nbformat": 4,
  "nbformat_minor": 0,
  "metadata": {
    "colab": {
      "provenance": [],
      "authorship_tag": "ABX9TyMgBjM2CeBnq+DCE2SPp8W3",
      "include_colab_link": true
    },
    "kernelspec": {
      "name": "python3",
      "display_name": "Python 3"
    },
    "language_info": {
      "name": "python"
    }
  },
  "cells": [
    {
      "cell_type": "markdown",
      "metadata": {
        "id": "view-in-github",
        "colab_type": "text"
      },
      "source": [
        "<a href=\"https://colab.research.google.com/github/WijdanMohammed/oop-project/blob/main/Untitled0.ipynb\" target=\"_parent\"><img src=\"https://colab.research.google.com/assets/colab-badge.svg\" alt=\"Open In Colab\"/></a>"
      ]
    },
    {
      "cell_type": "code",
      "execution_count": 7,
      "metadata": {
        "colab": {
          "base_uri": "https://localhost:8080/"
        },
        "id": "k8Go9LemSwe3",
        "outputId": "a13f2857-5465-477d-df57-6b81feb1641f"
      },
      "outputs": [
        {
          "output_type": "stream",
          "name": "stdout",
          "text": [
            "[11, 33, 15, 7, 49]\n"
          ]
        }
      ],
      "source": [
        "def remove_even_numbers(lst):\n",
        "\n",
        "    return [num for num in lst if num % 2 != 0]\n",
        "\n",
        "# Example:\n",
        "numbers = [11, 22, 33, 44, 15, 86, 7, 78, 49, 10]\n",
        "result = remove_even_numbers(numbers)\n",
        "print(result)"
      ]
    },
    {
      "cell_type": "code",
      "source": [
        "def union(Set1, Set2):\n",
        "\n",
        "    return Set1.union(Set2)\n",
        "\n",
        "# Example:\n",
        "Set1 = {30, 40, 50, 60}\n",
        "Set2 = {60, 70, 80, 90}\n",
        "result = union(Set1, Set2)\n",
        "print(\"Union of Set1 and Set2:\", result)"
      ],
      "metadata": {
        "colab": {
          "base_uri": "https://localhost:8080/"
        },
        "id": "sAi83x4BXwVX",
        "outputId": "289e5b70-7c1f-4208-baab-35e7853bdb41"
      },
      "execution_count": 9,
      "outputs": [
        {
          "output_type": "stream",
          "name": "stdout",
          "text": [
            "Union of Set1 and Set2: {70, 40, 80, 50, 90, 60, 30}\n"
          ]
        }
      ]
    },
    {
      "cell_type": "code",
      "source": [
        "def merge_dicts(Dict1, Dict2):\n",
        "\n",
        "    merged_dict = Dict1.copy()\n",
        "    merged_dict.update(Dict2)\n",
        "    return merged_dict\n",
        "\n",
        "# Example:\n",
        "Dict1 = {'a': 1, 'b': 2, 'c': 3}\n",
        "Dict2 = {'b': 5, 'c': 6, 'd': 7}\n",
        "merged_dict = merge_dicts(Dict1, Dict2)\n",
        "print(\"Merged dictionary:\", merged_dict)"
      ],
      "metadata": {
        "colab": {
          "base_uri": "https://localhost:8080/"
        },
        "id": "c6Wd3HbIZDTe",
        "outputId": "d200e74d-5fd3-4827-dcb5-e83da9b29dde"
      },
      "execution_count": 12,
      "outputs": [
        {
          "output_type": "stream",
          "name": "stdout",
          "text": [
            "Merged dictionary: {'a': 1, 'b': 5, 'c': 6, 'd': 7}\n"
          ]
        }
      ]
    },
    {
      "cell_type": "code",
      "source": [
        "def factorial_iterative(n):\n",
        "\n",
        "    factorial = 1\n",
        "    for i in range(1, n + 1):\n",
        "        factorial *= i\n",
        "    return factorial\n",
        "\n",
        "# Example:\n",
        "number = int(input(\"Enter a number: \"))\n",
        "result = factorial_iterative(number)\n",
        "print(\"Factorial of\", number, \":\", result)\n"
      ],
      "metadata": {
        "colab": {
          "base_uri": "https://localhost:8080/"
        },
        "id": "mAOa10TOZP4l",
        "outputId": "2d6111ec-e1ae-4393-ab24-0e959900bf93"
      },
      "execution_count": 11,
      "outputs": [
        {
          "output_type": "stream",
          "name": "stdout",
          "text": [
            "Enter a number: 23\n",
            "Factorial of 23 : 25852016738884976640000\n"
          ]
        }
      ]
    }
  ]
}