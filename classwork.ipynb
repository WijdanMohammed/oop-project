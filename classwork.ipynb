{
  "nbformat": 4,
  "nbformat_minor": 0,
  "metadata": {
    "colab": {
      "provenance": [],
      "include_colab_link": true
    },
    "kernelspec": {
      "name": "python3",
      "display_name": "Python 3"
    },
    "language_info": {
      "name": "python"
    }
  },
  "cells": [
    {
      "cell_type": "markdown",
      "metadata": {
        "id": "view-in-github",
        "colab_type": "text"
      },
      "source": [
        "<a href=\"https://colab.research.google.com/github/WijdanMohammed/oop-project/blob/main/classwork.ipynb\" target=\"_parent\"><img src=\"https://colab.research.google.com/assets/colab-badge.svg\" alt=\"Open In Colab\"/></a>"
      ]
    },
    {
      "cell_type": "markdown",
      "source": [
        "**Reverse**"
      ],
      "metadata": {
        "id": "FDtrtXKOxJ1G"
      }
    },
    {
      "cell_type": "code",
      "execution_count": 5,
      "metadata": {
        "id": "qMpHMr4IX7Lt"
      },
      "outputs": [],
      "source": [
        "def reverse_string(input_str):\n",
        "    return input_str[::-1]"
      ]
    },
    {
      "cell_type": "markdown",
      "source": [
        "**palindrome**"
      ],
      "metadata": {
        "id": "Fsn-Fdahxx4V"
      }
    },
    {
      "cell_type": "code",
      "source": [
        "def is_palindrome(input_str):\n",
        "    clean_str = ''.join(char.lower() for char in input_str if char.isalnum())\n",
        "\n",
        "    return clean_str == clean_str[::-1]\n",
        "\n",
        "# Example usage:\n",
        "test_string = \"A man, a plan, a canal, Panama!\"\n",
        "result = is_palindrome(test_string)\n",
        "\n",
        "if result:\n",
        "    print(f'\"{test_string}\" is a palindrome.')\n",
        "else:\n",
        "    print(f'\"{test_string}\" is not a palindrome.')"
      ],
      "metadata": {
        "id": "b6ga4Zy6xyUN",
        "outputId": "001694ed-11c3-4d1c-8eef-51fca81f25ab",
        "colab": {
          "base_uri": "https://localhost:8080/"
        }
      },
      "execution_count": 4,
      "outputs": [
        {
          "output_type": "stream",
          "name": "stdout",
          "text": [
            "\"A man, a plan, a canal, Panama!\" is a palindrome.\n"
          ]
        }
      ]
    },
    {
      "cell_type": "markdown",
      "source": [
        "**count vowel and consonent**"
      ],
      "metadata": {
        "id": "xBwav5DbxypM"
      }
    },
    {
      "cell_type": "code",
      "source": [
        "def count_vowels_and_consonants(input_str):\n",
        "    vowels = set(\"aeiouAEIOU\")\n",
        "\n",
        "    vowel_count = 0\n",
        "    consonant_count = 0\n",
        "\n",
        "    for char in input_str:\n",
        "        if char.isalpha():\n",
        "            if char in vowels:\n",
        "                vowel_count += 1\n",
        "            else:\n",
        "                consonant_count += 1\n",
        "\n",
        "    return vowel_count, consonant_count\n",
        "\n",
        "# Example usage:\n",
        "test_string = \"Hello, World!\"\n",
        "\n",
        "vowel_count, consonant_count = count_vowels_and_consonants(test_string)\n",
        "print(f'Vowel count: {vowel_count}')\n",
        "print(f'Consonant count: {consonant_count}')\n"
      ],
      "metadata": {
        "colab": {
          "base_uri": "https://localhost:8080/"
        },
        "id": "vudpO6ksx0As",
        "outputId": "772f66b0-6afe-4d0c-830a-1553372aca52"
      },
      "execution_count": 3,
      "outputs": [
        {
          "output_type": "stream",
          "name": "stdout",
          "text": [
            "Vowel count: 3\n",
            "Consonant count: 7\n"
          ]
        }
      ]
    },
    {
      "cell_type": "markdown",
      "source": [
        "**Anagrams**"
      ],
      "metadata": {
        "id": "uamPulhUx0pl"
      }
    },
    {
      "cell_type": "code",
      "source": [
        "def are_anagrams(str1, str2):\n",
        "    clean_str1 = ''.join(char.lower() for char in str1 if char.isalnum())\n",
        "    clean_str2 = ''.join(char.lower() for char in str2 if char.isalnum())\n",
        "\n",
        "    return sorted(clean_str1) == sorted(clean_str2)\n",
        "\n",
        "# Example usage:\n",
        "string1 = \"Listen\"\n",
        "string2 = \"Silent\"\n",
        "\n",
        "if are_anagrams(string1, string2):\n",
        "    print(f'\"{string1}\" and \"{string2}\" are anagrams.')\n",
        "else:\n",
        "    print(f'\"{string1}\" and \"{string2}\" are not anagrams.')\n"
      ],
      "metadata": {
        "id": "dEr0g-35x1aV",
        "outputId": "6caef2be-5d67-46e6-ab36-ce0e6484dc94",
        "colab": {
          "base_uri": "https://localhost:8080/"
        }
      },
      "execution_count": 2,
      "outputs": [
        {
          "output_type": "stream",
          "name": "stdout",
          "text": [
            "\"Listen\" and \"Silent\" are anagrams.\n"
          ]
        }
      ]
    },
    {
      "cell_type": "markdown",
      "source": [
        "\n",
        "** string compression**"
      ],
      "metadata": {
        "id": "HdrDWE0qx2E0"
      }
    },
    {
      "cell_type": "code",
      "source": [
        "inp = \"aabcccccaaa\"\n",
        "def output (inp):\n",
        "    output1 = ''\n",
        "    count = 1\n",
        "\n",
        "    for i in range (1, len(input)):\n",
        "        if input[i] == input[i - 1]:\n",
        "             count += 1\n",
        "\n",
        "        else:\n",
        "            output1 += input[i - 1] + str(count)\n",
        "            count = 1\n",
        "\n",
        "    output1 += input[-1] + str(count)\n",
        "    return (output1)\n",
        "\n",
        "    result = output(input)\n",
        "    print(result)"
      ],
      "metadata": {
        "id": "4rTs3vcdx209"
      },
      "execution_count": 1,
      "outputs": []
    }
  ]
}