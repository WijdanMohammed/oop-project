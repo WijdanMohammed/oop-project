{
  "nbformat": 4,
  "nbformat_minor": 0,
  "metadata": {
    "colab": {
      "provenance": [],
      "authorship_tag": "ABX9TyPL8KwJvV2pTzn4JfyIKXXR",
      "include_colab_link": true
    },
    "kernelspec": {
      "name": "python3",
      "display_name": "Python 3"
    },
    "language_info": {
      "name": "python"
    }
  },
  "cells": [
    {
      "cell_type": "markdown",
      "metadata": {
        "id": "view-in-github",
        "colab_type": "text"
      },
      "source": [
        "<a href=\"https://colab.research.google.com/github/WijdanMohammed/oop-project/blob/main/string_operations.ipynb\" target=\"_parent\"><img src=\"https://colab.research.google.com/assets/colab-badge.svg\" alt=\"Open In Colab\"/></a>"
      ]
    },
    {
      "cell_type": "markdown",
      "source": [
        "**Concatenation:** Combining two strings."
      ],
      "metadata": {
        "id": "FpKge6sG_OE-"
      }
    },
    {
      "cell_type": "code",
      "execution_count": 1,
      "metadata": {
        "id": "ZgJnGCRQ-2JF"
      },
      "outputs": [],
      "source": [
        "greeting = \"Hello\"\n",
        "name = \"Alice\"\n",
        "full_greeting = greeting + \" \" + name  # \"Hello Alice\""
      ]
    },
    {
      "cell_type": "markdown",
      "source": [
        "**Indexing**: Accessing individual characters in a string."
      ],
      "metadata": {
        "id": "VvBFI1KQAQ6u"
      }
    },
    {
      "cell_type": "code",
      "source": [
        "word = \"Python\"\n",
        "first_char = word[0]  # \"P\""
      ],
      "metadata": {
        "id": "7BddeOEBAfRe"
      },
      "execution_count": 2,
      "outputs": []
    },
    {
      "cell_type": "markdown",
      "source": [
        "**Slicing**: Extracting a portion of a string."
      ],
      "metadata": {
        "id": "7qz9_qKXAja9"
      }
    },
    {
      "cell_type": "code",
      "source": [
        "sentence = \"This is a sample sentence\"\n",
        "subset = sentence[5:12]  # \"is a sa\""
      ],
      "metadata": {
        "id": "p78yrab2A7lf"
      },
      "execution_count": 3,
      "outputs": []
    },
    {
      "cell_type": "markdown",
      "source": [
        "**Length**: Finding the length of a string."
      ],
      "metadata": {
        "id": "LioYkyMOBBxe"
      }
    },
    {
      "cell_type": "code",
      "source": [
        "phrase = \"I love cse\"\n",
        "length = len(phrase)  # 14"
      ],
      "metadata": {
        "id": "nXAyuXAFBIHm"
      },
      "execution_count": 4,
      "outputs": []
    },
    {
      "cell_type": "markdown",
      "source": [
        "**Lowercase and Uppercase**: Changing the case of a string."
      ],
      "metadata": {
        "id": "Jce5a-_wBY6_"
      }
    },
    {
      "cell_type": "code",
      "source": [
        "message = \"Hello World\"\n",
        "lowercase_msg = message.lower()  # \"hello world\"\n",
        "uppercase_msg = message.upper()  # \"HELLO WORLD\""
      ],
      "metadata": {
        "id": "YnNnbL4PBZr_"
      },
      "execution_count": 5,
      "outputs": []
    },
    {
      "cell_type": "markdown",
      "source": [
        "**Strip**: Removing leading and trailing whitespaces."
      ],
      "metadata": {
        "id": "qPJJHc-5Bnn4"
      }
    },
    {
      "cell_type": "code",
      "source": [
        "text = \"   Some spaces here   \"\n",
        "stripped_text = text.strip()  # \"Some spaces here\""
      ],
      "metadata": {
        "id": "SM_5-Hi4BobP"
      },
      "execution_count": 6,
      "outputs": []
    },
    {
      "cell_type": "markdown",
      "source": [
        "**Replace**: Replacing occurrences of a substring."
      ],
      "metadata": {
        "id": "VHtzOOPnBvPX"
      }
    },
    {
      "cell_type": "code",
      "source": [
        "sentence = \"I love programming in Python\"\n",
        "new_sentence = sentence.replace(\"Python\", \"Java\")  # \"I love programming in Java\""
      ],
      "metadata": {
        "id": "oBNIDSfTBvqW"
      },
      "execution_count": 7,
      "outputs": []
    },
    {
      "cell_type": "markdown",
      "source": [
        "**Find and Count**: Searching for substrings."
      ],
      "metadata": {
        "id": "hYHj_-J8B2w-"
      }
    },
    {
      "cell_type": "code",
      "source": [
        "sentence = \"Python is powerful and Python is versatile\"\n",
        "index = sentence.find(\"Python\")  # 0 (index of first occurrence)\n",
        "occurrences = sentence.count(\"Python\")  # 2 (number of occurrences)"
      ],
      "metadata": {
        "id": "nQfOeUxYB9XQ"
      },
      "execution_count": 8,
      "outputs": []
    },
    {
      "cell_type": "markdown",
      "source": [
        "**Split**: Breaking a string into a list of substrings."
      ],
      "metadata": {
        "id": "kuRtrYdWCA3g"
      }
    },
    {
      "cell_type": "code",
      "source": [
        "phrase = \"This is a sample sentence\"\n",
        "words = phrase.split()  # ['This', 'is', 'a', 'sample', 'sentence']"
      ],
      "metadata": {
        "id": "INFeNh7lCE82"
      },
      "execution_count": 9,
      "outputs": []
    },
    {
      "cell_type": "markdown",
      "source": [
        "**Format**: Inserting values into a string."
      ],
      "metadata": {
        "id": "RVrv4EWDCH1e"
      }
    },
    {
      "cell_type": "code",
      "source": [
        "name = \"Wijdan\"\n",
        "age = 23\n",
        "message = \"My name is {} and I am {} years old\".format(name, age)\n",
        "# \"My name is Wijdan and I am 23 years old\""
      ],
      "metadata": {
        "id": "GAstn7dWCIRP"
      },
      "execution_count": 10,
      "outputs": []
    }
  ]
}